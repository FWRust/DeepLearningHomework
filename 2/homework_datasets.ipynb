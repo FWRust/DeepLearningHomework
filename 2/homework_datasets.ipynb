{
 "cells": [
  {
   "cell_type": "code",
   "execution_count": 1,
   "id": "046b4c62-35de-4a21-8ce2-9344729c6813",
   "metadata": {
    "id": "046b4c62-35de-4a21-8ce2-9344729c6813"
   },
   "outputs": [],
   "source": [
    "# 2.1\n",
    "# Создайте кастомный класс датасета для работы с CSV файлами:\n",
    "# - Загрузка данных из файла\n",
    "# - Предобработка (нормализация, кодирование категорий)\n",
    "# - Поддержка различных форматов данных (категориальные, числовые, бинарные и т.д.)\n",
    "import torch\n",
    "import pandas as pd\n",
    "from torch.utils.data import Dataset\n",
    "\n",
    "\n",
    "class CSVDataset(Dataset):\n",
    "    def __init__(self, file_path, numeric_cols=None, categorical_cols=None, binary_cols=None, target_col=None):\n",
    "        \"\"\"\n",
    "        Args:\n",
    "            file_path (str): Путь к CSV файлу\n",
    "            numeric_cols (list): Список числовых колонок\n",
    "            categorical_cols (list): Список категориальных колонок\n",
    "            binary_cols (list): Список бинарных колонок\n",
    "            target_col (str): Искомое\n",
    "        \"\"\"\n",
    "        self.data = pd.read_csv(file_path)\n",
    "        self.numeric_cols = numeric_cols if numeric_cols else []\n",
    "        self.categorical_cols = categorical_cols if categorical_cols else []\n",
    "        self.binary_cols = binary_cols if binary_cols else []\n",
    "        self.target_col = target_col\n",
    "\n",
    "        self.preprocess_data()\n",
    "\n",
    "    def preprocess_data(self):\n",
    "        # Нормализация числовых данных (MinMax)\n",
    "        for col in self.numeric_cols:\n",
    "            col_data = torch.tensor(self.data[col].values, dtype=torch.float32)\n",
    "            min_val = torch.min(torch.tensor(col_data))\n",
    "            max_val = torch.max(torch.tensor(col_data))\n",
    "            self.data[col] = ((col_data - min_val) / (max_val - min_val)) - 1\n",
    "\n",
    "        # Кодирование категориальных данных (One-Hot), громоздкое но универсальное\n",
    "        for col in self.categorical_cols:\n",
    "            unique_values = self.data[col].unique()\n",
    "            mapping = {v: i for i, v in enumerate(unique_values)}\n",
    "            self.data[col] = self.data[col].map(mapping)\n",
    "            # Конвертируем в one-hot\n",
    "            one_hot = torch.zeros((len(self.data), len(unique_values)))\n",
    "            one_hot[torch.arange(len(self.data)), self.data[col].values] = 1\n",
    "            # Удаляем оригинальную колонку и добавляем one-hot колонки\n",
    "            self.data.drop(col, axis=1, inplace=True)\n",
    "            for i, val in enumerate(unique_values):\n",
    "                self.data[f\"{col}_{val}\"] = one_hot[:, i]\n",
    "\n",
    "        # Кодирование бинарных данных\n",
    "        for col in self.binary_cols:\n",
    "            unique_values = self.data[col].unique()\n",
    "            mapping = {v: i for i, v in enumerate(unique_values)}\n",
    "            self.data[col] = self.data[col].map(mapping)\n",
    "\n",
    "    def __len__(self):\n",
    "        return len(self.data)\n",
    "\n",
    "    def __getitem__(self, idx):\n",
    "        features = []\n",
    "\n",
    "        # Собираем все признаки и объеденяем в один тензор с которым сможет работать Pytorch\n",
    "        for col in self.numeric_cols:\n",
    "            features.append(torch.tensor(self.data.iloc[idx][col], dtype=torch.float32))\n",
    "\n",
    "        for col in self.binary_cols:\n",
    "            features.append(torch.tensor(self.data.iloc[idx][col], dtype=torch.float32))\n",
    "\n",
    "        for col in self.categorical_cols:\n",
    "            for c in self.data.columns:\n",
    "                if c.startswith(f\"{col}_\"):\n",
    "                    features.append(torch.tensor(self.data.iloc[idx][c], dtype=torch.float32))\n",
    "\n",
    "        features = torch.stack(features)\n",
    "\n",
    "        if self.target_col:\n",
    "            target = torch.tensor(self.data.iloc[idx][self.target_col], dtype=torch.float32)\n",
    "            return features, target\n",
    "\n",
    "\n",
    "        return features"
   ]
  },
  {
   "cell_type": "code",
   "execution_count": null,
   "id": "fc85e49f-ae61-4905-9cca-398a13ef850e",
   "metadata": {},
   "outputs": [],
   "source": [
    "Класс выше, загружаает при помощи pandas csv файл, затем проводит предобработку, нормализуя численные признаки, и кодируя бинарные и категориальные,\n",
    "по итогу весь датасет преобразуется в тензор pytorch в формате float32"
   ]
  },
  {
   "cell_type": "code",
   "execution_count": 2,
   "id": "62a0fd16-2909-4f04-85dc-3d4330528836",
   "metadata": {
    "id": "62a0fd16-2909-4f04-85dc-3d4330528836"
   },
   "outputs": [],
   "source": [
    "import torch\n",
    "import torch.nn as nn\n",
    "import torch.optim as optim\n",
    "from torch.utils.data import DataLoader\n",
    "from utils import mse, log_epoch\n",
    "\n",
    "\n",
    "class LinearRegression(nn.Module):\n",
    "    def __init__(self, in_features):\n",
    "        super().__init__()\n",
    "        self.linear = nn.Linear(in_features, 1)\n",
    "\n",
    "    def forward(self, x):\n",
    "        return self.linear(x)\n",
    "\n",
    "\n",
    "def start_train(dataset, in_features=1):\n",
    "    dataloader = DataLoader(dataset, batch_size=32, shuffle=True)\n",
    "    print(f'Размер датасета: {len(dataset)}')\n",
    "    print(f'Количество батчей: {len(dataloader)}')\n",
    "\n",
    "    # Создаём модель, функцию потерь и оптимизатор\n",
    "    model = LinearRegression(in_features)\n",
    "    criterion = nn.MSELoss()\n",
    "    optimizer = optim.SGD(model.parameters(), lr=0.1)\n",
    "\n",
    "    # Параметры регуляризации\n",
    "    l_lambda = 0.01  # коэффициент для регуляризации\n",
    "    regularization = 'l2'  # тип регуляризации l1, l2 или None\n",
    "\n",
    "    # Параметры early stopping\n",
    "    patience = 5  # количество эпох без улучшения перед остановкой\n",
    "    best_loss = float('inf')\n",
    "    epochs_without_improvement = 0\n",
    "\n",
    "    # Обучаем модель\n",
    "    epochs = 100\n",
    "    for epoch in range(1, epochs + 1):\n",
    "        total_loss = 0\n",
    "\n",
    "        for i, (batch_X, batch_y) in enumerate(dataloader):\n",
    "            optimizer.zero_grad()\n",
    "            y_pred = model(batch_X)\n",
    "\n",
    "            # Основная функция потерь\n",
    "            loss = criterion(y_pred, batch_y)\n",
    "\n",
    "            # L2\n",
    "            if regularization == 'l2':\n",
    "                l2_reg = torch.tensor(0.)\n",
    "                for param in model.parameters():\n",
    "                    l2_reg += torch.norm(param, p=2) ** 2\n",
    "                loss += l_lambda * l2_reg\n",
    "            # L1\n",
    "            elif regularization == 'l1':\n",
    "                l1_reg = torch.tensor(0.)\n",
    "                for param in model.parameters():\n",
    "                    l1_reg += torch.norm(param, p=1)\n",
    "                loss += l_lambda * l1_reg\n",
    "\n",
    "            loss.backward()\n",
    "            optimizer.step()\n",
    "\n",
    "            total_loss += loss.item()\n",
    "\n",
    "        avg_loss = total_loss / (i + 1)\n",
    "\n",
    "        # Early stopping\n",
    "        if avg_loss < best_loss:\n",
    "            best_loss = avg_loss\n",
    "            epochs_without_improvement = 0\n",
    "            # Сохраняем лучшую модель\n",
    "            torch.save(model.state_dict(), 'models/best_linreg_torch.pth')\n",
    "        else:\n",
    "            epochs_without_improvement += 1\n",
    "            if epochs_without_improvement >= patience:\n",
    "                print(f'Early stopping на эпохе {epoch}')\n",
    "                break\n",
    "\n",
    "        if epoch % 10 == 0:\n",
    "            log_epoch(epoch, avg_loss)\n",
    "\n",
    "def evaluate():\n",
    "    best_model = LinearRegression(in_features=1)\n",
    "    best_model.load_state_dict(torch.load('models/best_linreg_torch.pth'))\n",
    "    best_model.eval()"
   ]
  },
  {
   "cell_type": "code",
   "execution_count": 3,
   "id": "072bbf4a-a030-422f-9d7c-7a202d114ac1",
   "metadata": {
    "colab": {
     "base_uri": "https://localhost:8080/",
     "height": 845
    },
    "id": "072bbf4a-a030-422f-9d7c-7a202d114ac1",
    "outputId": "269b046a-cea3-4c00-dd17-237ce5df6cfe"
   },
   "outputs": [
    {
     "name": "stderr",
     "output_type": "stream",
     "text": [
      "C:\\Users\\MobS\\AppData\\Local\\Temp\\ipykernel_11236\\234280877.py:28: UserWarning: To copy construct from a tensor, it is recommended to use sourceTensor.clone().detach() or sourceTensor.clone().detach().requires_grad_(True), rather than torch.tensor(sourceTensor).\n",
      "  min_val = torch.min(torch.tensor(col_data))\n",
      "C:\\Users\\MobS\\AppData\\Local\\Temp\\ipykernel_11236\\234280877.py:29: UserWarning: To copy construct from a tensor, it is recommended to use sourceTensor.clone().detach() or sourceTensor.clone().detach().requires_grad_(True), rather than torch.tensor(sourceTensor).\n",
      "  max_val = torch.max(torch.tensor(col_data))\n"
     ]
    },
    {
     "name": "stdout",
     "output_type": "stream",
     "text": [
      "Размер датасета: 30\n",
      "Количество батчей: 1\n"
     ]
    },
    {
     "name": "stderr",
     "output_type": "stream",
     "text": [
      "C:\\Users\\MobS\\mambaforge\\envs\\main\\Lib\\site-packages\\torch\\nn\\modules\\loss.py:610: UserWarning: Using a target size (torch.Size([30])) that is different to the input size (torch.Size([30, 1])). This will likely lead to incorrect results due to broadcasting. Please ensure they have the same size.\n",
      "  return F.mse_loss(input, target, reduction=self.reduction)\n"
     ]
    },
    {
     "name": "stdout",
     "output_type": "stream",
     "text": [
      "Epoch 10: loss=868343360.0000\n",
      "Epoch 20: loss=830120576.0000\n",
      "Epoch 30: loss=817326656.0000\n",
      "Epoch 40: loss=807955904.0000\n",
      "Epoch 50: loss=801070016.0000\n",
      "Epoch 60: loss=796010112.0000\n",
      "Epoch 70: loss=792292032.0000\n",
      "Epoch 80: loss=789559744.0000\n",
      "Epoch 90: loss=787552064.0000\n",
      "Epoch 100: loss=786076800.0000\n",
      "Размер датасета: 20\n",
      "Количество батчей: 1\n"
     ]
    },
    {
     "name": "stderr",
     "output_type": "stream",
     "text": [
      "C:\\Users\\MobS\\AppData\\Local\\Temp\\ipykernel_11236\\234280877.py:28: UserWarning: To copy construct from a tensor, it is recommended to use sourceTensor.clone().detach() or sourceTensor.clone().detach().requires_grad_(True), rather than torch.tensor(sourceTensor).\n",
      "  min_val = torch.min(torch.tensor(col_data))\n",
      "C:\\Users\\MobS\\AppData\\Local\\Temp\\ipykernel_11236\\234280877.py:29: UserWarning: To copy construct from a tensor, it is recommended to use sourceTensor.clone().detach() or sourceTensor.clone().detach().requires_grad_(True), rather than torch.tensor(sourceTensor).\n",
      "  max_val = torch.max(torch.tensor(col_data))\n",
      "C:\\Users\\MobS\\mambaforge\\envs\\main\\Lib\\site-packages\\torch\\nn\\modules\\loss.py:610: UserWarning: Using a target size (torch.Size([20])) that is different to the input size (torch.Size([20, 1])). This will likely lead to incorrect results due to broadcasting. Please ensure they have the same size.\n",
      "  return F.mse_loss(input, target, reduction=self.reduction)\n"
     ]
    },
    {
     "name": "stdout",
     "output_type": "stream",
     "text": [
      "Epoch 10: loss=114498128.0000\n",
      "Epoch 20: loss=105904104.0000\n",
      "Epoch 30: loss=99983072.0000\n",
      "Epoch 40: loss=95619784.0000\n",
      "Epoch 50: loss=92401680.0000\n",
      "Epoch 60: loss=90025824.0000\n",
      "Epoch 70: loss=88269776.0000\n",
      "Epoch 80: loss=86970104.0000\n",
      "Epoch 90: loss=86006688.0000\n",
      "Epoch 100: loss=85291264.0000\n"
     ]
    }
   ],
   "source": [
    "# 2.2\n",
    "dataset = CSVDataset(\"data/Salary_dataset.csv\", numeric_cols = [\"YearsExperience\"], target_col = \"Salary\") # Простой датасет с одним числовым признаком - https://www.kaggle.com/datasets/abhishek14398/salary-dataset-simple-linear-regression\n",
    "start_train(dataset,1)\n",
    "dataset = CSVDataset(\"data/Multiple.csv\", numeric_cols = [\"age\",\"experience\"], target_col = \"income\") # чуть более сложный датасет, с двумя числовыми признаками - https://www.kaggle.com/datasets/hussainnasirkhan/multiple-linear-regression-dataset\n",
    "start_train(dataset,2)\n"
   ]
  },
  {
   "cell_type": "markdown",
   "id": "ae3038d5-23c3-4004-b09e-642986f26bc2",
   "metadata": {},
   "source": [
    "Проверил работосопособность CSVDataset и тренировки линейной регрессии на небольших датасетах с kaggle, ссылка на каждый в комментариях к коду выше. отдельно проверял работу кодировки признаков, но не могу показать их в этой работе, т.к. не смог найти датасет который имел в себе категориальные или бинарные признаки, и при этом не был бы гигантским, из за чего его обучение занимало очень много времени и при этом активировало раннюю остановку на 7-ой эпохе, то есть эффективное обучение шло 2-е эпохи, что невероятно мало, но сам факт успешного начала обучения доказывает работоспособность кодировки."
   ]
  }
 ],
 "metadata": {
  "accelerator": "GPU",
  "colab": {
   "gpuType": "T4",
   "provenance": []
  },
  "kernelspec": {
   "display_name": "Python 3 (ipykernel)",
   "language": "python",
   "name": "python3"
  },
  "language_info": {
   "codemirror_mode": {
    "name": "ipython",
    "version": 3
   },
   "file_extension": ".py",
   "mimetype": "text/x-python",
   "name": "python",
   "nbconvert_exporter": "python",
   "pygments_lexer": "ipython3",
   "version": "3.11.11"
  }
 },
 "nbformat": 4,
 "nbformat_minor": 5
}
