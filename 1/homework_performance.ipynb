{
 "cells": [
  {
   "cell_type": "code",
   "execution_count": 3,
   "id": "6e620ab3-4d29-40bb-ba1b-0715f096fb68",
   "metadata": {},
   "outputs": [],
   "source": [
    "import torch\n",
    "import time\n",
    "# Создайте большие матрицы размеров:\n",
    "x = torch.rand((64,1024,1024))# - 64 x 1024 x 1024\n",
    "y = torch.rand((128,512,512))# - 128 x 512 x 512\n",
    "z = torch.rand((256,256,256))# - 256 x 256 x 256\n",
    "# Заполните их случайными числами"
   ]
  },
  {
   "cell_type": "code",
   "execution_count": 33,
   "id": "1c676279-7c74-48d7-820e-fa3b407ad8e1",
   "metadata": {},
   "outputs": [],
   "source": [
    "# Создайте функцию для измерения времени выполнения операций\n",
    "# Используйте torch.cuda.Event() для точного измерения на GPU\n",
    "# Используйте time.time() для измерения на CPU\n",
    "import torch\n",
    "import time\n",
    "\n",
    "def measure_performance(func, *args):\n",
    "    gpu = torch.device(\"cuda\")\n",
    "    \n",
    "    start_time = time.time()\n",
    "    func(*args)\n",
    "    cpu_time = (time.time() - start_time) * 1000\n",
    "    \n",
    "    start_event = torch.cuda.Event(enable_timing=True)\n",
    "    end_event = torch.cuda.Event(enable_timing=True)\n",
    "\n",
    "    gpu_args = [arg.to(gpu) if isinstance(arg, torch.Tensor) else arg for arg in args]\n",
    "    \n",
    "    torch.cuda.synchronize()\n",
    "    start_event.record()\n",
    "    func(*gpu_args)\n",
    "    end_event.record()\n",
    "    torch.cuda.synchronize()\n",
    "    \n",
    "    gpu_time = start_event.elapsed_time(end_event)\n",
    "\n",
    "    return cpu_time,gpu_time\n"
   ]
  },
  {
   "cell_type": "code",
   "execution_count": 34,
   "id": "3d11e650-7f72-4945-be8e-4a77d5a153f4",
   "metadata": {},
   "outputs": [
    {
     "name": "stdout",
     "output_type": "stream",
     "text": [
      "Операция          | CPU (мс) | GPU (мс) | Ускорение\n",
      "Матричное умножение| 1241.624116897583 | 22.88412857055664 | 54.25699794813648 x\n",
      "Поэлементное сложение| 25.067806243896484 | 2.0959999561309814 | 11.959831473550837 x\n",
      "Поэлементное умножение| 24.17612075805664 | 2.1234560012817383 | 11.385270400452708 x\n",
      "Транспонирование| 0.016450881958007812 | 0.08902399986982346 | 0.18479153915869131 x\n",
      "Вычисление суммы всех элементов| 7.637977600097656 | 0.7407680153846741 | 10.31089010522589 x\n"
     ]
    }
   ],
   "source": [
    "# Сравните время выполнения следующих операций на CPU и CUDA:\n",
    "print(\"Операция          | CPU (мс) | GPU (мс) | Ускорение(x)\")\n",
    "matmul = measure_performance(torch.matmul, x,x)# - Матричное умножение (torch.matmul)\n",
    "print(\"Матричное умножение|\",matmul[0],\"|\",matmul[1],\"|\",matmul[0]/matmul[1])\n",
    "add = measure_performance(torch.add, x,x)# - Поэлементное сложение\n",
    "print(\"Поэлементное сложение|\",add[0],\"|\",add[1],\"|\",add[0]/add[1])\n",
    "mul = measure_performance(torch.mul, x,x)# - Поэлементное умножение\n",
    "print(\"Поэлементное умножение|\",mul[0],\"|\",mul[1],\"|\",mul[0]/mul[1])\n",
    "transpose = measure_performance(torch.transpose, x, 0,1)# - Транспонирование\n",
    "print(\"Транспонирование|\",transpose[0],\"|\",transpose[1],\"|\",transpose[0]/transpose[1])\n",
    "summ = measure_performance(torch.sum, x)# - Вычисление суммы всех элементов\n",
    "print(\"Вычисление суммы всех элементов|\",summ[0],\"|\",summ[1],\"|\",summ[0]/summ[1])\n",
    "\n",
    "\n",
    "# Для каждой операции:\n",
    "# 1. Измерьте время на CPU\n",
    "# 2. Измерьте время на GPU (если доступен)\n",
    "# 3. Вычислите ускорение (speedup)\n",
    "# 4. Выведите результаты в табличном виде"
   ]
  },
  {
   "cell_type": "code",
   "execution_count": null,
   "id": "50b92fe8-5d2d-40a7-b466-cfdfebec387f",
   "metadata": {},
   "outputs": [],
   "source": [
    "# Проанализируйте результаты:\n",
    "# - Какие операции получают наибольшее ускорение на GPU?\n",
    "#Операции связанные с арифметическими операциями (умножение, сложение)\n",
    "# - Почему некоторые операции могут быть медленнее на GPU?\n",
    "#В моем случае единственная операция выполнившаяся хуже на gpu - транспонирование, потому что это операция в которой приходится много работать с памятью, а это происходит эффективнее на CPU.\n",
    "# - Как размер матриц влияет на ускорение?\n",
    "#Чем больше размер матриц, тем больше ускорение.\n",
    "# - Что происходит при передаче данных между CPU и GPU?\n",
    "#Данные отправляются из оперативной памяти в видеопамять или обратно, где с ней затем работает соответствующее устройство"
   ]
  }
 ],
 "metadata": {
  "kernelspec": {
   "display_name": "Python 3 (ipykernel)",
   "language": "python",
   "name": "python3"
  },
  "language_info": {
   "codemirror_mode": {
    "name": "ipython",
    "version": 3
   },
   "file_extension": ".py",
   "mimetype": "text/x-python",
   "name": "python",
   "nbconvert_exporter": "python",
   "pygments_lexer": "ipython3",
   "version": "3.13.2"
  }
 },
 "nbformat": 4,
 "nbformat_minor": 5
}
